{
 "cells": [
  {
   "cell_type": "code",
   "execution_count": null,
   "metadata": {
    "vscode": {
     "languageId": "plaintext"
    }
   },
   "outputs": [],
   "source": [
    "\n",
    "import pandas as pd\n",
    "import seaborn as sns\n",
    "import matplotlib.pyplot as plt\n",
    "\n",
    "df = pd.read_csv('~/OneDrive/Área de Trabalho/projeto final reprograma/planilhadedados - Dados da Pesquisa.csv', encoding='utf-8')\n",
    "\n",
    "print(df.head())\n",
    "\n",
    "print(df.info())\n",
    "\n",
    "print(\"Valores nulos:\")\n",
    "print(df.isnull().sum())\n",
    "\n",
    "df.fillna('Desconhecido', inplace=True)\n",
    "\n",
    "prevalencia_violencia = df['Tipo de Violência'].value_counts()\n",
    "print(\"Prevalência de Violência:\")\n",
    "print(prevalencia_violencia)\n",
    "\n",
    "consequencias_saude = df['Consequências para Saúde'].value_counts()\n",
    "print(\"Consequências para Saúde:\")\n",
    "print(consequencias_saude)\n",
    "\n",
    "busca_atendimento = df['Buscou atendimento?'].value_counts()\n",
    "print(\"Buscando Atendimento:\")\n",
    "print(busca_atendimento)\n",
    "\n",
    "# Gráfico de barras da prevalência de tipos de violência\n",
    "plt.figure(figsize=(10, 6))\n",
    "sns.countplot(data=df, x='Tipo de Violência', palette='viridis')\n",
    "plt.title('Prevalência de Tipos de Violência')\n",
    "plt.xlabel('Tipo de Violência')\n",
    "plt.ylabel('Contagem')\n",
    "plt.xticks(rotation=45)\n",
    "plt.show()\n",
    "\n",
    "plt.figure(figsize=(10, 6))\n",
    "sns.countplot(data=df, y='Consequências para Saúde', palette='plasma')\n",
    "plt.title('Consequências para a Saúde')\n",
    "plt.xlabel('Contagem')\n",
    "plt.ylabel('Consequências para Saúde')\n",
    "plt.show()\n",
    "\n",
    "plt.figure(figsize=(10, 6))\n",
    "sns.countplot(data=df, x='Buscou atendimento?', palette='mako')\n",
    "plt.title('Busca por Atendimento')\n",
    "plt.xlabel('Buscou Atendimento?')\n",
    "plt.ylabel('Contagem')\n",
    "plt.show()\n",
    "\n",
    "df.to_csv('resultado_analisado.csv', index=False)\n",
    "\n"
   ]
  }
 ],
 "metadata": {
  "language_info": {
   "name": "python"
  }
 },
 "nbformat": 4,
 "nbformat_minor": 2
}
